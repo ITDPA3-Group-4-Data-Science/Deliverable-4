{
 "cells": [
  {
   "cell_type": "code",
   "execution_count": null,
   "id": "1ae7a1b0-58a4-4f64-806d-da929abafef5",
   "metadata": {},
   "outputs": [],
   "source": [
    "# --- Imports ---\n",
    "import pandas as pd\n",
    "import numpy as np\n",
    "from sklearn.preprocessing import MultiLabelBinarizer\n",
    "from pathlib import Path\n",
    "import openpyxl"
   ]
  },
  {
   "cell_type": "code",
   "execution_count": null,
   "id": "bee2b7d8-0a1d-4755-b489-d997204e1256",
   "metadata": {},
   "outputs": [],
   "source": [
    "# --- Paths (edit these if needed) ---\n",
    "INPUT_PATH = Path(r\"C:\\Users\\marcu\\Documents\\Marcus\\ITDPA3-34\\Project\\The impact of Digital Media Consumption on Academic Performance.xlsx\")\n",
    "OUTPUT_XLSX = Path(r\"C:\\Users\\marcu\\Documents\\Marcus\\ITDPA3-34\\Project\\ITDPA3-34\\dataset_encoded.xlsx\")"
   ]
  },
  {
   "cell_type": "code",
   "execution_count": null,
   "id": "947b0724-9ed6-4bb5-9293-3d2f472ae982",
   "metadata": {},
   "outputs": [],
   "source": [
    "# --- Load ---\n",
    "df_raw = pd.read_excel(INPUT_PATH)"
   ]
  },
  {
   "cell_type": "code",
   "execution_count": null,
   "id": "cb6b80a1-3fea-4b95-84fa-ac1af9acf2c6",
   "metadata": {},
   "outputs": [],
   "source": [
    "# --- Select columns of interest (match your survey) ---\n",
    "cols = [\n",
    "    \"ID\",\n",
    "    \"Which year of study are you currently in?\",\n",
    "    \"Which category best fits your field of study?\",\n",
    "    \"Which type of a higher education institution do you currently attend?\",\n",
    "    \"What type of device do you mainly use for accessing digital media?\",\n",
    "    \"Roughly how many hours per day do you spend on streaming platforms (Netflix, YouTube)?\",\n",
    "    \"Roughly how many hours per day do you spend on Social media platforms (TikTok, Instagram, Whatsapp)?\",\n",
    "    \"Which digital media platform do you use most frequently?\\n\",\n",
    "    \"What is your primary reason for using these platforms?\\n\",\n",
    "    \"How often do you encounter multitasking such as using apps while studying?\",\n",
    "    \"How often do you binge-watch videos or series?\",\n",
    "    \"Which platforms do you feel help you the most academically? (Select all that apply)\",\n",
    "    \"Which platforms do you feel distract you the most from academics? (Select all that apply)\",\n",
    "    \"What's your most recent academic performance average?\",\n",
    "    \"How would you rate your overall academic performance this semester?\\n\",\n",
    "    \"How significantly does digital media distract you from your studies?\",\n",
    "    \"How often has digital media usage negatively affected your exam preparation or assignment completion?\",\n",
    "    \"How often do you use digital media platforms (like YouTube or TikTok) for academic assistance or study support?\",\n",
    "    \"Overall, how would you describe the effect of digital media on your academic results?\",\n",
    "    \"Which method do you use most to manage digital distractions during study sessions?\",\n",
    "    \"If you could reduce or better manage your digital media use, do you think your academic performance would:\",\n",
    "    \"Which view best aligns with your perception of the impact of digital media on academics?\"\n",
    "]"
   ]
  },
  {
   "cell_type": "code",
   "execution_count": null,
   "id": "5dfde83a-3c26-4a8d-aafd-78cfedc58fd1",
   "metadata": {},
   "outputs": [],
   "source": [
    "df = df_raw[cols].copy()"
   ]
  },
  {
   "cell_type": "code",
   "execution_count": null,
   "id": "985ec2a8-e2c8-4683-bef6-c9c2d820ba7c",
   "metadata": {},
   "outputs": [],
   "source": [
    "# --- Rename to concise snake_case ---\n",
    "df = df.rename(columns={\n",
    "    \"Which year of study are you currently in?\": \"year\",\n",
    "    \"Which category best fits your field of study?\": \"field\",\n",
    "    \"Which type of a higher education institution do you currently attend?\": \"institution\",\n",
    "    \"What type of device do you mainly use for accessing digital media?\": \"device\",\n",
    "    \"Roughly how many hours per day do you spend on streaming platforms (Netflix, YouTube)?\": \"streamingHours\",\n",
    "    \"Roughly how many hours per day do you spend on Social media platforms (TikTok, Instagram, Whatsapp)?\": \"socialHours\",\n",
    "    \"Which digital media platform do you use most frequently?\\n\": \"frequentPlatform\",\n",
    "    \"What is your primary reason for using these platforms?\\n\": \"primaryReason\",\n",
    "    \"How often do you encounter multitasking such as using apps while studying?\": \"multitasking\",\n",
    "    \"How often do you binge-watch videos or series?\": \"binge\",\n",
    "    \"Which platforms do you feel help you the most academically? (Select all that apply)\": \"academicPlatform\",\n",
    "    \"Which platforms do you feel distract you the most from academics? (Select all that apply)\": \"academicDistraction\",\n",
    "    \"What's your most recent academic performance average?\": \"academicAvg\",\n",
    "    \"How would you rate your overall academic performance this semester?\\n\": \"academicPerformance\",\n",
    "    \"How significantly does digital media distract you from your studies?\": \"digitalDistraction\",\n",
    "    \"How often has digital media usage negatively affected your exam preparation or assignment completion?\": \"negativeEffect\",\n",
    "    \"How often do you use digital media platforms (like YouTube or TikTok) for academic assistance or study support?\": \"academicSupport\",\n",
    "    \"Overall, how would you describe the effect of digital media on your academic results?\": \"digitalEffect\",\n",
    "    \"Which method do you use most to manage digital distractions during study sessions?\": \"distractionMethod\",\n",
    "    \"If you could reduce or better manage your digital media use, do you think your academic performance would:\": \"manageDigital\",\n",
    "    \"Which view best aligns with your perception of the impact of digital media on academics?\": \"perception\",\n",
    "})"
   ]
  },
  {
   "cell_type": "code",
   "execution_count": null,
   "id": "39f8b5b8-1817-4e07-806e-7b767ad919d7",
   "metadata": {},
   "outputs": [],
   "source": [
    "# --- Basic cleaning ---\n",
    "# drop rows with no device (as in your earlier script)\n",
    "df = df[df[\"device\"].notna()].copy()"
   ]
  },
  {
   "cell_type": "code",
   "execution_count": null,
   "id": "46c065bb-c8cb-4647-a8e0-d67fd755fe16",
   "metadata": {},
   "outputs": [],
   "source": [
    "# strip whitespace from all string cells to avoid mapping mismatches\n",
    "df = df.map(lambda x: x.strip() if isinstance(x, str) else x)"
   ]
  },
  {
   "cell_type": "code",
   "execution_count": null,
   "id": "5c0ecf81-27bf-4fd3-ab9b-b3c71dbb0fda",
   "metadata": {},
   "outputs": [],
   "source": [
    "# --- Ordinal/centroid mappings (become real numbers) ---\n",
    "# Hours buckets -> numeric centroids (in hours)\n",
    "hours_map = {\n",
    "    \"Less than 1 hour\": 0.5,\n",
    "    \"1 - 2 hours\": 1.5,\n",
    "    \"3 - 4 hours\": 3.5,\n",
    "    \"5 - 6 hours\": 5.5,\n",
    "    \"More than 6 hours\": 6.5\n",
    "}"
   ]
  },
  {
   "cell_type": "code",
   "execution_count": null,
   "id": "1491e559-fc71-4f63-a7ed-780a37bea3c8",
   "metadata": {},
   "outputs": [],
   "source": [
    "# Likert scales -> ordered numeric\n",
    "likert_5_map = {\n",
    "    \"Never\": 1, \"Rarely\": 2, \"Sometimes\": 3, \"Often\": 4, \"Always\": 5\n",
    "}\n",
    "likert_4_map = {  # for 4-point items you used\n",
    "    \"Never\": 1, \"Rarely\": 2, \"Occasionally\": 3, \"Regularly\": 4\n",
    "}\n",
    "impact_5_map = {  # positive/negative effect\n",
    "    \"Very negative\": 1, \"Somewhat negative\": 2, \"Neutral (no significant impact)\": 3,\n",
    "    \"Somewhat positive\": 4, \"Very positive\": 5\n",
    "}\n",
    "distraction_5_map = {  # degree of distraction\n",
    "    \"Not at all\": 1, \"Rarely\": 2, \"Slightly\": 3, \"Moderately\": 4, \"Significantly\": 5\n",
    "}\n",
    "neg_effect_4_map = {  # frequency of negative effect\n",
    "    \"Never\": 1, \"Rarely\": 2, \"Sometimes\": 3, \"Regularly\": 4\n",
    "}\n",
    "support_4_map = {  # academic support frequency\n",
    "    \"Never\": 1, \"Rarely\": 2, \"Occasionally\": 3, \"Regularly\": 4\n",
    "}\n",
    "performance_5_map = {  # self-rated performance\n",
    "    \"Poor\": 1, \"Below average\": 2, \"Average\": 3, \"Good\": 4, \"Excellent\": 5\n",
    "}\n",
    "manage_map = {  # perceived impact of managing digital use\n",
    "    \"Get worse\": 1, \"Stay the same\": 2, \"Improve slightly\": 3, \"Improve Significantly\": 4\n",
    "}\n",
    "# Academic average -> midpoints (in %)\n",
    "avg_map = {\n",
    "    \"Below 50%\": 45,\n",
    "    \"50 - 59 %\": 55,\n",
    "    \"60 - 69 %\": 65,\n",
    "    \"70 - 79 %\": 75,  # ensure matches your survey label\n",
    "    \"80 % or higher\": 85  # or 90; midpoint assumption\n",
    "}"
   ]
  },
  {
   "cell_type": "code",
   "execution_count": null,
   "id": "3a41ddc4-700c-4493-b282-b05f130cb0dd",
   "metadata": {},
   "outputs": [],
   "source": [
    "# Year -> ordinal numeric\n",
    "year_map = {\"First Year\": 1, \"Second Year\": 2, \"Third Year\": 3, \"Fourth Year or Above\": 4}"
   ]
  },
  {
   "cell_type": "code",
   "execution_count": null,
   "id": "f6057ff9-43c2-4dcb-822e-8884775390fb",
   "metadata": {},
   "outputs": [],
   "source": [
    "# --- Apply ordinal mappings safely ---\n",
    "def map_series(s: pd.Series, mapping: dict, dtype=float):\n",
    "    return s.map(mapping).astype(dtype, errors=\"ignore\")"
   ]
  },
  {
   "cell_type": "code",
   "execution_count": null,
   "id": "c56cca26-5d1d-42b9-baca-719f8900d6bc",
   "metadata": {},
   "outputs": [],
   "source": [
    "df[\"year_num\"] = map_series(df[\"year\"], year_map, int)\n",
    "df[\"streamingHours_num\"] = map_series(df[\"streamingHours\"], hours_map, float)\n",
    "df[\"socialHours_num\"] = map_series(df[\"socialHours\"], hours_map, float)\n",
    "df[\"binge_num\"] = map_series(df[\"binge\"], likert_4_map, int)\n",
    "df[\"multitasking_num\"] = map_series(df[\"multitasking\"], likert_5_map, int)\n",
    "df[\"academicAvg_num\"] = map_series(df[\"academicAvg\"], avg_map, float)\n",
    "df[\"academicPerformance_num\"] = map_series(df[\"academicPerformance\"], performance_5_map, int)\n",
    "df[\"digitalDistraction_num\"] = map_series(df[\"digitalDistraction\"], distraction_5_map, int)\n",
    "df[\"negativeEffect_num\"] = map_series(df[\"negativeEffect\"], neg_effect_4_map, int)\n",
    "df[\"academicSupport_num\"] = map_series(df[\"academicSupport\"], support_4_map, int)\n",
    "df[\"digitalEffect_num\"] = map_series(df[\"digitalEffect\"], impact_5_map, int)\n",
    "df[\"manageDigital_num\"] = map_series(df[\"manageDigital\"], manage_map, int)"
   ]
  },
  {
   "cell_type": "code",
   "execution_count": null,
   "id": "f1b66c10-6ea4-4945-a286-6f4194153553",
   "metadata": {},
   "outputs": [],
   "source": [
    "# --- One-Hot Encode purely nominal columns ---\n",
    "nominal_cols = [\n",
    "    \"field\", \"institution\", \"device\", \"frequentPlatform\",\n",
    "    \"primaryReason\", \"distractionMethod\", \"perception\"\n",
    "]\n",
    "df_nominal = pd.get_dummies(df[nominal_cols], prefix=nominal_cols, drop_first=True)"
   ]
  },
  {
   "cell_type": "code",
   "execution_count": null,
   "id": "348bb479-b649-4b15-bae4-1ba4a34aebf7",
   "metadata": {},
   "outputs": [],
   "source": [
    "# --- Multi-select column: academicDistraction (split on ';') ---\n",
    "distraction_list = (\n",
    "    df[\"academicDistraction\"]\n",
    "    .fillna(\"\")\n",
    "    .astype(str)\n",
    "    .apply(lambda x: [i.strip() for i in x.split(\";\") if i.strip() != \"\"])\n",
    ")\n",
    "mlb = MultiLabelBinarizer()\n",
    "if len(distraction_list) > 0:\n",
    "    distraction_flags = pd.DataFrame(\n",
    "        mlb.fit_transform(distraction_list),\n",
    "        columns=[f\"distraction_{c}\" for c in mlb.classes_],\n",
    "        index=df.index\n",
    "    )\n",
    "else:\n",
    "    distraction_flags = pd.DataFrame(index=df.index)"
   ]
  },
  {
   "cell_type": "code",
   "execution_count": null,
   "id": "5364773a-0c96-4139-9070-284f28070398",
   "metadata": {},
   "outputs": [],
   "source": [
    "# --- Assemble encoded dataset ---\n",
    "numeric_cols = [\n",
    "    \"year_num\", \"streamingHours_num\", \"socialHours_num\",\n",
    "    \"binge_num\", \"multitasking_num\",\n",
    "    \"academicAvg_num\", \"academicPerformance_num\",\n",
    "    \"digitalDistraction_num\", \"negativeEffect_num\",\n",
    "    \"academicSupport_num\", \"digitalEffect_num\", \"manageDigital_num\"\n",
    "]\n",
    "\n",
    "base_cols_to_keep = [\"ID\"]  # keep identifiers you need; add others if required"
   ]
  },
  {
   "cell_type": "code",
   "execution_count": null,
   "id": "5ec5be69-2cbf-4bc3-be35-e33ca15e9298",
   "metadata": {},
   "outputs": [],
   "source": [
    "df_encoded = pd.concat(\n",
    "    [df[base_cols_to_keep], df_nominal, distraction_flags, df[numeric_cols]],\n",
    "    axis=1\n",
    ")"
   ]
  },
  {
   "cell_type": "code",
   "execution_count": null,
   "id": "da2995a5-d326-41ed-9d2b-7a31dff0733c",
   "metadata": {},
   "outputs": [],
   "source": [
    "# --- Enforce numeric dtypes where applicable ---\n",
    "for c in numeric_cols:\n",
    "    df_encoded[c] = pd.to_numeric(df_encoded[c], errors=\"coerce\")\n",
    "\n",
    "# Optional: drop rows with any critical missing numeric targets/predictors\n",
    "# df_encoded = df_encoded.dropna(subset=[\"academicAvg_num\", \"academicPerformance_num\"])"
   ]
  },
  {
   "cell_type": "code",
   "execution_count": null,
   "id": "996da5b6-5c51-477b-9b22-a6002ae61c28",
   "metadata": {},
   "outputs": [
    {
     "name": "stdout",
     "output_type": "stream",
     "text": [
      "Saved encoded dataset:\n",
      "- C:\\Users\\marcu\\Documents\\Marcus\\ITDPA3-34\\Project\\ITDPA3-34\\dataset_encoded.xlsx\n",
      "Shape: (110, 44)\n"
     ]
    }
   ],
   "source": [
    "# --- Save outputs ---\n",
    "OUTPUT_XLSX.parent.mkdir(parents=True, exist_ok=True)\n",
    "df_encoded.to_excel(OUTPUT_XLSX, index=False)\n",
    "\n",
    "print(f\"Saved encoded dataset:\\n- {OUTPUT_XLSX}\")\n",
    "print(f\"Shape: {df_encoded.shape}\")"
   ]
  }
 ],
 "metadata": {
  "language_info": {
   "codemirror_mode": {
    "name": "ipython",
    "version": 3
   },
   "file_extension": ".py",
   "mimetype": "text/x-python",
   "name": "python",
   "nbconvert_exporter": "python",
   "pygments_lexer": "ipython3",
   "version": 3
  }
 },
 "nbformat": 4,
 "nbformat_minor": 2
}
